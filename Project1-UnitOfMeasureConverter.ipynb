{
 "cells": [
  {
   "cell_type": "markdown",
   "id": "f8734439-218c-4664-a879-7a735e454961",
   "metadata": {},
   "source": [
    "# Unit of Measurement Converter"
   ]
  },
  {
   "cell_type": "code",
   "execution_count": null,
   "id": "3bb732ed-9ff5-4471-9116-679e9ffb59c6",
   "metadata": {
    "jupyter": {
     "source_hidden": true
    }
   },
   "outputs": [],
   "source": [
    "# INPUTS NEEDED\n",
    "\n",
    "# convert_from = input(\"Enter Starting Unit of Measurement (inches, feet, yards): \")\n",
    "\n",
    "# convert_to = input(\"Enter Unit of Measurement to Convert to (inches, feet, yards): \")\n",
    "\n",
    "# number_of_inches = input(\"Enter Starting Measurement in Inches: \")\n",
    "\n",
    "# number_of_feet = input(\"Enter Starting Measurement in Feet: \")\n",
    "\n",
    "# number_of_yards = input(\"Enter Starting Measurement in Yards: \")\n"
   ]
  },
  {
   "cell_type": "code",
   "execution_count": 13,
   "id": "07bbe55b-6293-4fa8-9cd3-d109bafc51cf",
   "metadata": {},
   "outputs": [
    {
     "name": "stdin",
     "output_type": "stream",
     "text": [
      "Enter Starting Unit of Measurement (inches, feet, yards):   yard\n",
      "Enter Unit of Measurement to Convert to (inches, feet, yards):   inch\n",
      "Enter Starting Measurement in Yards:  4\n"
     ]
    },
    {
     "name": "stdout",
     "output_type": "stream",
     "text": [
      "Result: 4 Yards = 144 Inches\n"
     ]
    }
   ],
   "source": [
    "convert_from = input(\"Enter Starting Unit of Measurement (inches, feet, yards): \")\n",
    "\n",
    "convert_to = input(\"Enter Unit of Measurement to Convert to (inches, feet, yards): \")\n",
    "\n",
    "if convert_from.lower().strip() in [\"inches\",\"in\",\"inch\"]:\n",
    "    number_of_inches = int(input(\"Enter Starting Measurement in Inches: \"))\n",
    "    if convert_to.lower().strip() in [\"feet\",\"ft\",\"foot\"]:\n",
    "        print(\"Result: \" + str(number_of_inches) + \" Inches = \" + str(round(number_of_inches / 12,2)) + \" Feet\")\n",
    "    elif convert_to.lower().strip() in [\"yards\",\"yd\",\"yard\",\"yds\"]:\n",
    "        print(\"Result: \" + str(number_of_inches) + \" Inches = \" + str(round(number_of_inches / 36,2)) + \" Yards\")\n",
    "    else:\n",
    "        print(\"Please enter Convert to as inches, feet, or yards.\")\n",
    "elif convert_from.lower().strip() in [\"feet\",\"ft\",\"foot\"]:\n",
    "    number_of_feet = int(input(\"Enter Starting Measurement in Feet: \"))\n",
    "    if convert_to.lower().strip() in [\"inches\",\"in\",\"inch\"]:\n",
    "        print(\"Result: \" + str(number_of_feet) + \" Feet = \" + str(number_of_feet * 12) + \" Inches\")\n",
    "    elif convert_to.lower().strip() in [\"yards\",\"yd\",\"yard\",\"yds\"]:\n",
    "        print(\"Result: \" + str(number_of_feet) + \" Feet = \" + str(round(number_of_feet / 3,2)) + \" Yards\")\n",
    "    else:\n",
    "        print(\"Please enter Convert to as inches, feet, or yards.\")\n",
    "elif convert_from.lower().strip() in [\"yards\",\"yd\",\"yard\",\"yds\"]:\n",
    "    number_of_yards = int(input(\"Enter Starting Measurement in Yards: \"))\n",
    "    if convert_to.lower().strip() in [\"inches\",\"in\",\"inch\"]:\n",
    "        print(\"Result: \" + str(number_of_yards) + \" Yards = \" + str(number_of_yards * 36) + \" Inches\")\n",
    "    elif convert_to.lower().strip() in [\"feet\",\"ft\",\"foot\"]:\n",
    "        print(\"Result: \" + str(number_of_yards) + \" Yards = \" + str(number_of_yards * 3) + \" Feet\")\n",
    "    else:\n",
    "        print(\"Please enter Convert to as inches, feet, or yards.\")\n",
    "else: print(\"Please enter Starting from as inches, feet, or yards.\")"
   ]
  },
  {
   "cell_type": "code",
   "execution_count": null,
   "id": "9d267676-be07-4210-828a-14cf1d4aebe4",
   "metadata": {},
   "outputs": [],
   "source": []
  }
 ],
 "metadata": {
  "kernelspec": {
   "display_name": "Python 3 (ipykernel)",
   "language": "python",
   "name": "python3"
  },
  "language_info": {
   "codemirror_mode": {
    "name": "ipython",
    "version": 3
   },
   "file_extension": ".py",
   "mimetype": "text/x-python",
   "name": "python",
   "nbconvert_exporter": "python",
   "pygments_lexer": "ipython3",
   "version": "3.12.4"
  }
 },
 "nbformat": 4,
 "nbformat_minor": 5
}

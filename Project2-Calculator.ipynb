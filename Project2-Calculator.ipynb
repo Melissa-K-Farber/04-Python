{
 "cells": [
  {
   "cell_type": "markdown",
   "id": "ea83be54-e494-4e4d-aa0d-a1cb48b87c5a",
   "metadata": {},
   "source": [
    "# Calculator"
   ]
  },
  {
   "cell_type": "code",
   "execution_count": 2,
   "id": "caaf378d-49b3-498d-ae25-efdd159b113e",
   "metadata": {},
   "outputs": [],
   "source": [
    "def add(x,y):\n",
    "    return x + y\n",
    "\n",
    "def subtract(x,y):\n",
    "    return x - y\n",
    "\n",
    "def multiply(x,y):\n",
    "    return x * y\n",
    "\n",
    "def divide(x,y):\n",
    "    return x / y"
   ]
  },
  {
   "cell_type": "code",
   "execution_count": 12,
   "id": "fbf4fa02-e751-44c3-a0fa-55c5602589cc",
   "metadata": {},
   "outputs": [
    {
     "name": "stdout",
     "output_type": "stream",
     "text": [
      "Enter '+' or 'A' for Addition.\n",
      "Enter '-' or 'S' for Subtraction.\n",
      "Enter '*' or 'M' for Multiplication.\n",
      "Enter '/' or 'D' for Division.\n"
     ]
    },
    {
     "name": "stdin",
     "output_type": "stream",
     "text": [
      "Enter Choice (+,-,*,/):  *\n",
      "Enter first number:  12\n",
      "Enter second number:  12\n"
     ]
    },
    {
     "name": "stdout",
     "output_type": "stream",
     "text": [
      "Result: 12.0 * 12.0 = 144.0\n"
     ]
    }
   ],
   "source": [
    "print(\"Enter '+' or 'A' for Addition.\")\n",
    "print(\"Enter '-' or 'S' for Subtraction.\")\n",
    "print(\"Enter '*' or 'M' for Multiplication.\")\n",
    "print(\"Enter '/' or 'D' for Division.\")\n",
    "\n",
    "choice = input('Enter Choice (+,-,*,/): ')\n",
    "\n",
    "if choice.upper() in ('+','-','*','/','A','ADD','S','SUBTRACT','M','MULTIPLY','D','DIVIDE'):\n",
    "    num1 = float(input('Enter first number: '))\n",
    "    num2 = float(input('Enter second number: '))\n",
    "\n",
    "    if choice.upper() in ('+','A','ADD'):\n",
    "        print('Result:', num1, '+', num2, '=', add(num1,num2))\n",
    "\n",
    "    elif choice.upper() in ('-','S','SUBTRACT'):\n",
    "        print('Result:', num1, '-', num2, '=', subtract(num1,num2))\n",
    "\n",
    "    elif choice.upper() in ('*','M','MULTIPLY'):\n",
    "        print('Result:', num1, '*', num2, '=', multiply(num1,num2))\n",
    "\n",
    "    elif choice.upper() in ('/','D','DIVIDE'):\n",
    "        print('Result:', num1, '/', num2, '=', divide(num1,num2))\n",
    "\n",
    "else:\n",
    "    print(\"Please input a correct choice.\")\n"
   ]
  },
  {
   "cell_type": "code",
   "execution_count": 14,
   "id": "062a1a9c-2c00-4aa8-8805-52841689dc5e",
   "metadata": {},
   "outputs": [
    {
     "name": "stdout",
     "output_type": "stream",
     "text": [
      "Enter '+' or 'A' for Addition.\n",
      "Enter '-' or 'S' for Subtraction.\n",
      "Enter '*' or 'M' for Multiplication.\n",
      "Enter '/' or 'D' for Division.\n"
     ]
    },
    {
     "name": "stdin",
     "output_type": "stream",
     "text": [
      "Enter Choice (+,-,*,/):  -\n",
      "Enter first number:  2024\n",
      "Enter second number:  1973\n"
     ]
    },
    {
     "name": "stdout",
     "output_type": "stream",
     "text": [
      "Result: 2024.0 - 1973.0 = 51.0\n"
     ]
    },
    {
     "name": "stdin",
     "output_type": "stream",
     "text": [
      "Enter another calculation? (yes/no):  y\n",
      "Enter Choice (+,-,*,/):  -+\n"
     ]
    },
    {
     "name": "stdout",
     "output_type": "stream",
     "text": [
      "Please input a correct choice.\n"
     ]
    },
    {
     "name": "stdin",
     "output_type": "stream",
     "text": [
      "Enter another calculation? (yes/no):  y\n",
      "Enter Choice (+,-,*,/):  +\n",
      "Enter first number:  500\n",
      "Enter second number:  700\n"
     ]
    },
    {
     "name": "stdout",
     "output_type": "stream",
     "text": [
      "Result: 500.0 + 700.0 = 1200.0\n"
     ]
    },
    {
     "name": "stdin",
     "output_type": "stream",
     "text": [
      "Enter another calculation? (yes/no):  y\n",
      "Enter Choice (+,-,*,/):  m\n",
      "Enter first number:  55\n",
      "Enter second number:  88\n"
     ]
    },
    {
     "name": "stdout",
     "output_type": "stream",
     "text": [
      "Result: 55.0 * 88.0 = 4840.0\n"
     ]
    },
    {
     "name": "stdin",
     "output_type": "stream",
     "text": [
      "Enter another calculation? (yes/no):  n\n"
     ]
    }
   ],
   "source": [
    "#Add WHILE loop\n",
    "\n",
    "print(\"Enter '+' or 'A' for Addition.\")\n",
    "print(\"Enter '-' or 'S' for Subtraction.\")\n",
    "print(\"Enter '*' or 'M' for Multiplication.\")\n",
    "print(\"Enter '/' or 'D' for Division.\")\n",
    "\n",
    "while True:\n",
    "    choice = input('Enter Choice (+,-,*,/): ')\n",
    "    \n",
    "    if choice.upper() in ('+','-','*','/','A','ADD','S','SUBTRACT','M','MULTIPLY','D','DIVIDE'):\n",
    "        num1 = float(input('Enter first number: '))\n",
    "        num2 = float(input('Enter second number: '))\n",
    "    \n",
    "        if choice.upper() in ('+','A','ADD'):\n",
    "            print('Result:', num1, '+', num2, '=', add(num1,num2))\n",
    "    \n",
    "        elif choice.upper() in ('-','S','SUBTRACT'):\n",
    "            print('Result:', num1, '-', num2, '=', subtract(num1,num2))\n",
    "    \n",
    "        elif choice.upper() in ('*','M','MULTIPLY'):\n",
    "            print('Result:', num1, '*', num2, '=', multiply(num1,num2))\n",
    "    \n",
    "        elif choice.upper() in ('/','D','DIVIDE'):\n",
    "            print('Result:', num1, '/', num2, '=', divide(num1,num2))\n",
    "    \n",
    "    else:\n",
    "        print(\"Please input a correct choice.\")\n",
    "\n",
    "    next_calculation = input(\"Enter another calculation? (yes/no): \")\n",
    "    if next_calculation.lower() in ('no','n','x'):\n",
    "        break\n"
   ]
  },
  {
   "cell_type": "code",
   "execution_count": null,
   "id": "23a221e7-5874-410f-a0e5-db506c835582",
   "metadata": {},
   "outputs": [],
   "source": []
  }
 ],
 "metadata": {
  "kernelspec": {
   "display_name": "Python 3 (ipykernel)",
   "language": "python",
   "name": "python3"
  },
  "language_info": {
   "codemirror_mode": {
    "name": "ipython",
    "version": 3
   },
   "file_extension": ".py",
   "mimetype": "text/x-python",
   "name": "python",
   "nbconvert_exporter": "python",
   "pygments_lexer": "ipython3",
   "version": "3.12.4"
  }
 },
 "nbformat": 4,
 "nbformat_minor": 5
}

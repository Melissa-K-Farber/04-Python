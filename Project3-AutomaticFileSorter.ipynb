{
 "cells": [
  {
   "cell_type": "markdown",
   "id": "47d6dbe4-a772-411b-89b4-deb838c99cbb",
   "metadata": {},
   "source": [
    "# Automatic File Sorter"
   ]
  },
  {
   "cell_type": "code",
   "execution_count": 3,
   "id": "bde937c0-6168-491a-8bad-3891b3549945",
   "metadata": {},
   "outputs": [],
   "source": [
    "import os, shutil"
   ]
  },
  {
   "cell_type": "code",
   "execution_count": 11,
   "id": "7ef55b15-8a8b-459b-8dce-80a0193e8d47",
   "metadata": {},
   "outputs": [],
   "source": [
    "path = r'C:\\Users\\mkfbu\\Documents\\Python Project\\\\'"
   ]
  },
  {
   "cell_type": "code",
   "execution_count": 9,
   "id": "5c11a357-f152-469e-a8e2-ba2c6cffe999",
   "metadata": {},
   "outputs": [
    {
     "data": {
      "text/plain": [
       "['CSVFile1.csv',\n",
       " 'CSVFile2.csv',\n",
       " 'TextFileOne.txt',\n",
       " 'TextFileThree.txt',\n",
       " 'TextFileTwo.txt',\n",
       " 'Ziggy.jpg']"
      ]
     },
     "execution_count": 9,
     "metadata": {},
     "output_type": "execute_result"
    }
   ],
   "source": [
    "os.listdir(path)"
   ]
  },
  {
   "cell_type": "code",
   "execution_count": null,
   "id": "aee83533-223d-4edf-b991-fd109f48d22b",
   "metadata": {},
   "outputs": [],
   "source": [
    "#os.makedirs(path + new_folder_name)"
   ]
  },
  {
   "cell_type": "code",
   "execution_count": 13,
   "id": "1125aeb8-4e57-4680-9791-e42aae571608",
   "metadata": {},
   "outputs": [],
   "source": [
    "folder_names = ['CSV Files','Text Files','Image Files']\n",
    "\n",
    "for folder in folder_names:\n",
    "    if not os.path.exists(path + folder):\n",
    "        os.makedirs(path + folder)"
   ]
  },
  {
   "cell_type": "code",
   "execution_count": 15,
   "id": "1a324b16-fee3-4587-8fd5-850f3f594ec2",
   "metadata": {},
   "outputs": [
    {
     "data": {
      "text/plain": [
       "['CSV Files',\n",
       " 'CSVFile1.csv',\n",
       " 'CSVFile2.csv',\n",
       " 'Image Files',\n",
       " 'Text Files',\n",
       " 'TextFileOne.txt',\n",
       " 'TextFileThree.txt',\n",
       " 'TextFileTwo.txt',\n",
       " 'Ziggy.jpg']"
      ]
     },
     "execution_count": 15,
     "metadata": {},
     "output_type": "execute_result"
    }
   ],
   "source": [
    "os.listdir(path)"
   ]
  },
  {
   "cell_type": "code",
   "execution_count": 17,
   "id": "e533a7a8-de51-432a-8f88-981fb70ffd24",
   "metadata": {},
   "outputs": [],
   "source": [
    "file_names = os.listdir(path)"
   ]
  },
  {
   "cell_type": "code",
   "execution_count": 19,
   "id": "122b10a3-19dd-4585-a369-34c1bf54e1cc",
   "metadata": {},
   "outputs": [],
   "source": [
    "for file in file_names:\n",
    "    if \".csv\" in file and not os.path.exists(path + \"CSV Files\\\\\" + file):\n",
    "        shutil.move(path + file, path + \"CSV Files\\\\\" + file)\n",
    "    elif \".jpg\" in file and not os.path.exists(path + \"Image Files\\\\\" + file):\n",
    "        shutil.move(path + file, path + \"Image Files\\\\\" + file)\n",
    "    elif \".txt\" in file and not os.path.exists(path + \"Text Files\\\\\" + file):\n",
    "        shutil.move(path + file, path + \"Text Files\\\\\" + file)"
   ]
  },
  {
   "cell_type": "code",
   "execution_count": null,
   "id": "029dae54-71d6-446b-a7b6-8698e0fd2869",
   "metadata": {},
   "outputs": [],
   "source": [
    "#Final script - automation to be added . . .\n",
    "\n",
    "path = r'C:\\Users\\mkfbu\\Documents\\Python Project\\\\'\n",
    "\n",
    "folder_names = ['CSV Files','Text Files','Image Files']\n",
    "\n",
    "for folder in folder_names:\n",
    "    if not os.path.exists(path + folder):\n",
    "        os.makedirs(path + folder)\n",
    "\n",
    "file_names = os.listdir(path)\n",
    "\n",
    "for file in file_names:\n",
    "    if \".csv\" in file and not os.path.exists(path + \"CSV Files\\\\\" + file):\n",
    "        shutil.move(path + file, path + \"CSV Files\\\\\" + file)\n",
    "    elif \".jpg\" in file and not os.path.exists(path + \"Image Files\\\\\" + file):\n",
    "        shutil.move(path + file, path + \"Image Files\\\\\" + file)\n",
    "    elif \".txt\" in file and not os.path.exists(path + \"Text Files\\\\\" + file):\n",
    "        shutil.move(path + file, path + \"Text Files\\\\\" + file)\n"
   ]
  }
 ],
 "metadata": {
  "kernelspec": {
   "display_name": "Python 3 (ipykernel)",
   "language": "python",
   "name": "python3"
  },
  "language_info": {
   "codemirror_mode": {
    "name": "ipython",
    "version": 3
   },
   "file_extension": ".py",
   "mimetype": "text/x-python",
   "name": "python",
   "nbconvert_exporter": "python",
   "pygments_lexer": "ipython3",
   "version": "3.12.4"
  }
 },
 "nbformat": 4,
 "nbformat_minor": 5
}
